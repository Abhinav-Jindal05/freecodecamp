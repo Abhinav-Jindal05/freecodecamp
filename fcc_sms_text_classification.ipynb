{
  "cells": [
    {
      "cell_type": "markdown",
      "metadata": {
        "id": "view-in-github",
        "colab_type": "text"
      },
      "source": [
        "<a href=\"https://colab.research.google.com/github/Abhinav-Jindal05/freecodecamp/blob/main/fcc_sms_text_classification.ipynb\" target=\"_parent\"><img src=\"https://colab.research.google.com/assets/colab-badge.svg\" alt=\"Open In Colab\"/></a>"
      ]
    },
    {
      "cell_type": "code",
      "execution_count": null,
      "metadata": {
        "id": "8RZOuS9LWQvv"
      },
      "outputs": [],
      "source": [
        "# import libraries\n",
        "import tensorflow as tf\n",
        "from tensorflow.keras.models import Sequential\n",
        "from tensorflow.keras.layers import Dense,TextVectorization,Embedding,GlobalAveragePooling1D,Dropout\n",
        "import pandas as pd\n",
        "import tensorflow_datasets as tfds\n",
        "import numpy as np\n",
        "import matplotlib.pyplot as plt\n",
        "\n",
        "print(tf.__version__)"
      ]
    },
    {
      "cell_type": "code",
      "execution_count": null,
      "metadata": {
        "id": "lMHwYXHXCar3"
      },
      "outputs": [],
      "source": [
        "# get data files\n",
        "!wget https://cdn.freecodecamp.org/project-data/sms/train-data.tsv\n",
        "!wget https://cdn.freecodecamp.org/project-data/sms/valid-data.tsv\n",
        "\n",
        "train_file_path = \"train-data.tsv\"\n",
        "test_file_path = \"valid-data.tsv\""
      ]
    },
    {
      "cell_type": "code",
      "execution_count": null,
      "metadata": {
        "id": "g_h508FEClxO"
      },
      "outputs": [],
      "source": [
        "test_df = pd.read_csv(test_file_path, sep='\\t', header=None, names=['label', 'message'])\n",
        "train_df = pd.read_csv(train_file_path, sep='\\t', header=None, names=['label', 'message'])"
      ]
    },
    {
      "cell_type": "code",
      "source": [
        "train_df['label'].value_counts()\n",
        "test_df['label'].value_counts()"
      ],
      "metadata": {
        "id": "NJ4YHkf-a6cJ"
      },
      "execution_count": null,
      "outputs": []
    },
    {
      "cell_type": "code",
      "source": [
        "x_train = np.array(train_df['message'])\n",
        "y_train = np.array(train_df['label'])\n",
        "x_test = np.array(test_df['message'])\n",
        "y_test = np.array(test_df['label'])"
      ],
      "metadata": {
        "id": "YmH7bKQ2PjXv"
      },
      "execution_count": null,
      "outputs": []
    },
    {
      "cell_type": "code",
      "source": [
        "y_train = np.where(y_train == 'spam', 1, 0)\n",
        "y_test = np.where(y_test == 'spam', 1, 0)"
      ],
      "metadata": {
        "id": "Vffj8TjTPqnr"
      },
      "execution_count": null,
      "outputs": []
    },
    {
      "cell_type": "code",
      "source": [
        "vectorizer = TextVectorization(\n",
        "    output_mode='int',\n",
        "    max_tokens=1000,\n",
        "    output_sequence_length=171,\n",
        ")\n",
        "vectorized = vectorizer.adapt(tf.constant(x_train))"
      ],
      "metadata": {
        "id": "6QiVmegcPtUY"
      },
      "execution_count": null,
      "outputs": []
    },
    {
      "cell_type": "code",
      "source": [
        "# Create a frozen vectorizer layer to reuse inside loop\n",
        "frozen_vectorizer = tf.keras.models.Sequential([vectorizer])\n",
        "frozen_vectorizer.trainable = False\n"
      ],
      "metadata": {
        "id": "hWFqK1VKiW2X"
      },
      "execution_count": null,
      "outputs": []
    },
    {
      "cell_type": "code",
      "source": [
        "weights = []\n",
        "train_errors = []\n",
        "\n",
        "for i in range(10):\n",
        "    model = Sequential([\n",
        "        tf.keras.Input(shape=(1,), dtype=tf.string),\n",
        "        frozen_vectorizer,\n",
        "        Embedding(1000, 64),\n",
        "        GlobalAveragePooling1D(),\n",
        "        Dense(128, activation='relu', name='layer2'),\n",
        "        Dense(64, activation='relu', name='layer3'),\n",
        "        Dense(1, activation='linear', name='layer4')\n",
        "    ])\n",
        "\n",
        "    model.compile(\n",
        "        optimizer=tf.keras.optimizers.Adam(0.001),\n",
        "        loss=tf.keras.losses.BinaryCrossentropy(from_logits=True),\n",
        "        metrics=['accuracy']\n",
        "    )\n",
        "\n",
        "    model.fit(\n",
        "        x_train, y_train,\n",
        "        epochs=20,\n",
        "        callbacks=[tf.keras.callbacks.EarlyStopping(monitor='loss', patience=3)],\n",
        "        verbose=0\n",
        "    )\n",
        "\n",
        "    yhat = model.predict(x_train)\n",
        "    yhat = tf.math.sigmoid(yhat)\n",
        "    yhat = tf.where(yhat > 0.5, 1, 0)\n",
        "    train_error = np.mean(yhat.numpy().flatten() != y_train)\n",
        "    train_errors.append(train_error)\n",
        "\n",
        "    weights.append(model.get_weights())\n",
        "\n",
        "print(train_errors)\n",
        "\n"
      ],
      "metadata": {
        "id": "JNGJ0YpMPwDS"
      },
      "execution_count": null,
      "outputs": []
    },
    {
      "cell_type": "code",
      "source": [
        "# Rebuild the exact same model architecture\n",
        "best_model = Sequential([\n",
        "    tf.keras.Input(shape=(1,), dtype=tf.string),\n",
        "    frozen_vectorizer,\n",
        "    Embedding(1000, 64),\n",
        "    GlobalAveragePooling1D(),\n",
        "    Dense(128, activation='relu', name='layer2'),\n",
        "    Dense(64, activation='relu', name='layer3'),\n",
        "    Dense(1, activation='linear', name='layer4')\n",
        "])\n",
        "\n",
        "# Load the best weights\n",
        "best_index = train_errors.index(min(train_errors))\n",
        "best_model.set_weights(weights[best_index])\n",
        "\n",
        "# Re-evaluate\n",
        "yhat = best_model.predict(x_train)\n",
        "yhat = tf.math.sigmoid(yhat)\n",
        "yhat = tf.where(yhat > 0.5, 1, 0)\n",
        "train_error = np.mean(yhat.numpy().flatten() != y_train)\n",
        "print(\"Best train error after restoring full model:\", train_error)\n"
      ],
      "metadata": {
        "id": "uF7wQ4IdPv4z"
      },
      "execution_count": null,
      "outputs": []
    },
    {
      "cell_type": "code",
      "source": [
        "yhat = best_model.predict(x_test)\n",
        "yhat = tf.math.sigmoid(yhat)\n",
        "yhat = tf.where(yhat > 0.5, 1, 0)\n",
        "test_error = np.mean(yhat.numpy().flatten() != y_test)\n",
        "print(test_error)"
      ],
      "metadata": {
        "id": "ZaMkLg6hPtGF"
      },
      "execution_count": null,
      "outputs": []
    },
    {
      "cell_type": "code",
      "execution_count": null,
      "metadata": {
        "id": "J9tD9yACG6M9"
      },
      "outputs": [],
      "source": [
        "# function to predict messages based on model\n",
        "# (should return list containing prediction and label, ex. [0.008318834938108921, 'ham'])\n",
        "def predict_message(pred_text):\n",
        "  prediction = model.predict(tf.constant([pred_text]))\n",
        "  prob = tf.math.sigmoid(prediction)[0][0]\n",
        "  label = \"ham\" if prob < 0.5 else \"spam\"\n",
        "  return [prob.numpy(), label]\n",
        "\n",
        "pred_text = \"how are you doing today?\"\n",
        "\n",
        "prediction = predict_message(pred_text)\n",
        "print(prediction)"
      ]
    },
    {
      "cell_type": "code",
      "execution_count": null,
      "metadata": {
        "id": "Dxotov85SjsC"
      },
      "outputs": [],
      "source": [
        "# Run this cell to test your function and model. Do not modify contents.\n",
        "def test_predictions():\n",
        "  test_messages = [\"how are you doing today\",\n",
        "                   \"sale today! to stop texts call 98912460324\",\n",
        "                   \"i dont want to go. can we try it a different day? available sat\",\n",
        "                   \"our new mobile video service is live. just install on your phone to start watching.\",\n",
        "                   \"you have won £1000 cash! call to claim your prize.\",\n",
        "                   \"i'll bring it tomorrow. don't forget the milk.\",\n",
        "                   \"wow, is your arm alright. that happened to me one time too\"\n",
        "                  ]\n",
        "\n",
        "  test_answers = [\"ham\", \"spam\", \"ham\", \"spam\", \"spam\", \"ham\", \"ham\"]\n",
        "  passed = True\n",
        "\n",
        "  for msg, ans in zip(test_messages, test_answers):\n",
        "    prediction = predict_message(msg)\n",
        "    print(prediction)\n",
        "    if prediction[1] != ans:\n",
        "      passed = False\n",
        "\n",
        "  if passed:\n",
        "    print(\"You passed the challenge. Great job!\")\n",
        "  else:\n",
        "    print(\"You haven't passed yet. Keep trying.\")\n",
        "\n",
        "test_predictions()\n"
      ]
    }
  ],
  "metadata": {
    "colab": {
      "name": "fcc_sms_text_classification.ipynb",
      "private_outputs": true,
      "provenance": [],
      "include_colab_link": true
    },
    "kernelspec": {
      "display_name": "Python 3",
      "name": "python3"
    },
    "language_info": {}
  },
  "nbformat": 4,
  "nbformat_minor": 0
}