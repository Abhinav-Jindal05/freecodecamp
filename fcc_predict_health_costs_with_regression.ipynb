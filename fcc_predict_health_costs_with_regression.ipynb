{
  "cells": [
    {
      "cell_type": "markdown",
      "metadata": {
        "id": "view-in-github",
        "colab_type": "text"
      },
      "source": [
        "<a href=\"https://colab.research.google.com/github/Abhinav-Jindal05/freecodecamp/blob/main/fcc_predict_health_costs_with_regression.ipynb\" target=\"_parent\"><img src=\"https://colab.research.google.com/assets/colab-badge.svg\" alt=\"Open In Colab\"/></a>"
      ]
    },
    {
      "cell_type": "code",
      "execution_count": null,
      "metadata": {
        "id": "1rRo8oNqZ-Rj"
      },
      "outputs": [],
      "source": [
        "# Import libraries. You may or may not use all of these.\n",
        "!pip install -q git+https://github.com/tensorflow/docs\n",
        "import matplotlib.pyplot as plt\n",
        "import numpy as np\n",
        "import pandas as pd\n",
        "\n",
        "try:\n",
        "  # %tensorflow_version only exists in Colab.\n",
        "  %tensorflow_version 2.x\n",
        "except Exception:\n",
        "  pass\n",
        "import tensorflow as tf\n",
        "\n",
        "from tensorflow import keras\n",
        "from tensorflow.keras import layers\n",
        "from tensorflow.keras import regularizers\n",
        "\n",
        "import tensorflow_docs as tfdocs\n",
        "import tensorflow_docs.plots\n",
        "import tensorflow_docs.modeling\n",
        "from sklearn.preprocessing import StandardScaler, PolynomialFeatures\n",
        "from sklearn.model_selection import train_test_split\n",
        "from sklearn.metrics import mean_squared_error"
      ]
    },
    {
      "cell_type": "code",
      "execution_count": null,
      "metadata": {
        "id": "CiX2FI4gZtTt"
      },
      "outputs": [],
      "source": [
        "# Import data\n",
        "!wget https://cdn.freecodecamp.org/project-data/health-costs/insurance.csv\n",
        "dataset = pd.read_csv('insurance.csv')\n",
        "dataset.tail()"
      ]
    },
    {
      "cell_type": "code",
      "source": [
        "dataset['sex'] = dataset['sex'].apply(lambda x: x == 'male').astype(int)"
      ],
      "metadata": {
        "id": "rpTsuG01hrv3"
      },
      "execution_count": null,
      "outputs": []
    },
    {
      "cell_type": "code",
      "source": [
        "dataset['smoker'] = dataset['smoker'].apply(lambda x: x == 'yes').astype(int)"
      ],
      "metadata": {
        "id": "DpTOPOTWikGS"
      },
      "execution_count": null,
      "outputs": []
    },
    {
      "cell_type": "code",
      "source": [
        "dataset = pd.get_dummies(dataset, columns=['region'], drop_first=True)"
      ],
      "metadata": {
        "id": "KI-tWuMoixJQ"
      },
      "execution_count": null,
      "outputs": []
    },
    {
      "cell_type": "code",
      "source": [
        "dataset['children'].value_counts()"
      ],
      "metadata": {
        "id": "ia_gyFHGjle2"
      },
      "execution_count": null,
      "outputs": []
    },
    {
      "cell_type": "code",
      "source": [
        "scaler_age = StandardScaler()\n",
        "scaler_bmi = StandardScaler()\n",
        "scaler_children = StandardScaler()\n",
        "dataset['age'] = scaler_age.fit_transform(dataset['age'].values.reshape(-1,1))\n",
        "dataset['bmi'] = scaler_bmi.fit_transform(dataset['bmi'].values.reshape(-1,1))\n",
        "dataset['children'] = scaler_children.fit_transform(dataset['children'].values.reshape(-1,1))"
      ],
      "metadata": {
        "id": "3EimdvDBjgtm"
      },
      "execution_count": null,
      "outputs": []
    },
    {
      "cell_type": "code",
      "source": [
        "dataset"
      ],
      "metadata": {
        "id": "0CIuDx7NjV_6"
      },
      "execution_count": null,
      "outputs": []
    },
    {
      "cell_type": "code",
      "execution_count": null,
      "metadata": {
        "id": "LcopvQh3X-kX"
      },
      "outputs": [],
      "source": [
        "dataset_array = np.array(dataset.loc[:,['age','sex','bmi','children','smoker','region_1','region_2','region_3']],dtype=np.float64)\n",
        "labels = np.array(dataset.loc[:,'expenses']).flatten()\n",
        "print(dataset_array.shape)\n",
        "print(labels.shape)"
      ]
    },
    {
      "cell_type": "code",
      "source": [
        "print(dataset_array.dtype)"
      ],
      "metadata": {
        "id": "hMkISYuchBi_"
      },
      "execution_count": null,
      "outputs": []
    },
    {
      "cell_type": "code",
      "source": [
        "train_dataset,test_dataset,train_labels,test_labels = train_test_split(dataset_array,labels,test_size=0.2,random_state=42)"
      ],
      "metadata": {
        "id": "I9TgqgJdpoUB"
      },
      "execution_count": null,
      "outputs": []
    },
    {
      "cell_type": "code",
      "source": [
        "model = tf.keras.Sequential([\n",
        "    tf.keras.layers.Dense(128, activation='relu'),\n",
        "    tf.keras.layers.Dense(64, activation='relu'),\n",
        "    tf.keras.layers.Dense(32, activation='relu'),\n",
        "    tf.keras.layers.Dense(16, activation='relu'),\n",
        "    tf.keras.layers.Dense(8, activation='relu'),\n",
        "    tf.keras.layers.Dense(1, activation='linear',\n",
        "                          kernel_regularizer=regularizers.l2(0.01)\n",
        "                          )\n",
        "])\n",
        "model.compile(\n",
        "    optimizer=tf.optimizers.Adam(learning_rate=0.001),\n",
        "    loss='mse',\n",
        "    metrics=['mae', 'mse']\n",
        ")\n",
        "model.fit(\n",
        "    train_dataset, train_labels,\n",
        "          epochs=200,\n",
        "          callbacks=[tf.keras.callbacks.EarlyStopping(monitor='loss', patience=3)],\n",
        "          verbose=0\n",
        "    )"
      ],
      "metadata": {
        "id": "1M1fmpMghdzr"
      },
      "execution_count": null,
      "outputs": []
    },
    {
      "cell_type": "code",
      "source": [
        "# RUN THIS CELL TO TEST YOUR MODEL. DO NOT MODIFY CONTENTS.\n",
        "# Test model by checking how well the model generalizes using the test set.\n",
        "loss, mae, mse = model.evaluate(test_dataset, test_labels, verbose=2)\n",
        "\n",
        "print(\"Testing set Mean Abs Error: {:5.2f} expenses\".format(mae))\n",
        "\n",
        "if mae < 3500:\n",
        "  print(\"You passed the challenge. Great job!\")\n",
        "else:\n",
        "  print(\"The Mean Abs Error must be less than 3500. Keep trying.\")\n",
        "\n",
        "# Plot predictions.\n",
        "test_predictions = model.predict(test_dataset).flatten()\n",
        "# print(test_predictions)\n",
        "\n",
        "a = plt.axes(aspect='equal')\n",
        "plt.scatter(test_labels, test_predictions)\n",
        "plt.xlabel('True values (expenses)')\n",
        "plt.ylabel('Predictions (expenses)')\n",
        "lims = [0, 50000]\n",
        "plt.xlim(lims)\n",
        "plt.ylim(lims)\n",
        "_ = plt.plot(lims,lims)"
      ],
      "metadata": {
        "id": "fHvOVDQrpCOs"
      },
      "execution_count": null,
      "outputs": []
    },
    {
      "cell_type": "code",
      "source": [
        "from sklearn.metrics import r2_score\n",
        "r2 = r2_score(test_labels, test_predictions)\n",
        "print(f\"R² Score: {r2:.2f}\")\n"
      ],
      "metadata": {
        "id": "ZLB2V_7G4Coe"
      },
      "execution_count": null,
      "outputs": []
    }
  ],
  "metadata": {
    "colab": {
      "name": "fcc_predict_health_costs_with_regression.ipynb",
      "private_outputs": true,
      "provenance": [],
      "include_colab_link": true
    },
    "kernelspec": {
      "display_name": "Python 3",
      "name": "python3"
    }
  },
  "nbformat": 4,
  "nbformat_minor": 0
}